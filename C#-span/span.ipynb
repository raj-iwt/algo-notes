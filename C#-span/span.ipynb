{
 "cells": [
  {
   "cell_type": "code",
   "execution_count": 2,
   "metadata": {
    "dotnet_interactive": {
     "language": "csharp"
    },
    "polyglot_notebook": {
     "kernelName": "csharp"
    },
    "vscode": {
     "languageId": "polyglot-notebook"
    }
   },
   "outputs": [
    {
     "name": "stdout",
     "output_type": "stream",
     "text": [
      "1225\r\n"
     ]
    }
   ],
   "source": [
    "int[] array = Enumerable.Range(0, 100).ToArray();\n",
    "\n",
    "\n",
    "// Expensive code\n",
    "// int[] copy = new int[50];\n",
    "// Array.Copy(array, copy, 50);\n",
    "// Console.WriteLine(Sum(copy));\n",
    "\n",
    "Console.WriteLine(Sum(new Span<int>(array, 0, 50)));\n",
    "\n",
    "// static int Sum(int[] array, int offset, int length){\n",
    "//     int sum = 0;\n",
    "//     for (int i = offset; i < offset + length; i++){\n",
    "//         sum += array[i];\n",
    "//     }\n",
    "//     return sum;\n",
    "// }\n",
    "\n",
    "static int Sum(ReadOnlySpan<int> span){\n",
    "    int sum = 0;\n",
    "    foreach (var item in span){\n",
    "        sum += item;\n",
    "    }\n",
    "    return sum;\n",
    "}"
   ]
  },
  {
   "cell_type": "code",
   "execution_count": 1,
   "metadata": {
    "dotnet_interactive": {
     "language": "csharp"
    },
    "polyglot_notebook": {
     "kernelName": "csharp"
    },
    "vscode": {
     "languageId": "polyglot-notebook"
    }
   },
   "outputs": [
    {
     "name": "stdout",
     "output_type": "stream",
     "text": [
      "10\r\n"
     ]
    }
   ],
   "source": [
    "int[] array = Enumerable.Range(0, 100).ToArray();\n"
   ]
  }
 ],
 "metadata": {
  "kernelspec": {
   "display_name": ".NET (C#)",
   "language": "C#",
   "name": ".net-csharp"
  },
  "language_info": {
   "name": "python"
  },
  "polyglot_notebook": {
   "kernelInfo": {
    "defaultKernelName": "csharp",
    "items": [
     {
      "aliases": [],
      "name": "csharp"
     }
    ]
   }
  }
 },
 "nbformat": 4,
 "nbformat_minor": 2
}
